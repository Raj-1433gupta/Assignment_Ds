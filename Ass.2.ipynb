{
 "cells": [
  {
   "cell_type": "markdown",
   "id": "e7f663a2",
   "metadata": {},
   "source": [
    " #### Q1)  Explain the importace of function \n"
   ]
  },
  {
   "cell_type": "markdown",
   "id": "eff64504",
   "metadata": {},
   "source": [
    " by using fucntion ,  when the multiple task is repeated many times so by defining the task as fucntion , so we can reuse the task many times by calling fucntion ,  so importance of function we can reuse it many times , it maintain the code and keep it clean and clear  ,  it make code short , and it can reduce the repeated things, keeping things organized .  "
   ]
  },
  {
   "cell_type": "markdown",
   "id": "3ef51db1",
   "metadata": {},
   "source": [
    "#### Q2 ) Write a basic function to greet  students "
   ]
  },
  {
   "cell_type": "code",
   "execution_count": 4,
   "id": "f6f4dbbf",
   "metadata": {},
   "outputs": [],
   "source": [
    "def greet(student):\n",
    "    return \"welcome to class\" , student "
   ]
  },
  {
   "cell_type": "code",
   "execution_count": 5,
   "id": "7471b82a",
   "metadata": {},
   "outputs": [
    {
     "data": {
      "text/plain": [
       "('welcome to class', 'Raj')"
      ]
     },
     "execution_count": 5,
     "metadata": {},
     "output_type": "execute_result"
    }
   ],
   "source": [
    "greet(\"Raj\")"
   ]
  },
  {
   "cell_type": "markdown",
   "id": "f8c057d9",
   "metadata": {},
   "source": [
    "#### Q3)  What is the difference  between print and return statements."
   ]
  },
  {
   "cell_type": "markdown",
   "id": "a3ce8516",
   "metadata": {},
   "source": [
    "Print  :it only show the information which is write inside a print() , it not affect the flow of program and it will not modify the value of a fucntion which is write inside the print statement.\n",
    "\n",
    "Return : The return statement is used to exit a function and pass a value back to the part of the program that called the function. When the return statement is executed, it terminates the function immediately and optionally sends back a value to the caller. "
   ]
  },
  {
   "cell_type": "markdown",
   "id": "6644e194",
   "metadata": {},
   "source": [
    "#### Q4) What are *args and * kwargs "
   ]
  },
  {
   "cell_type": "markdown",
   "id": "e594afa4",
   "metadata": {},
   "source": [
    "*args : *args is positional argumnets ,  which take any number of positioanl argumnet . this *args is treated as a tuple ,  when we donn't know that how many function argument are required in a function , so we use *args as a function argumnet  by using *args we can insert n number of arguments in a function arguments after the return statement.\n",
    "\n",
    "**kwargs : **kwargs is keyword argument , this will be treated a dictionary , in that we have to define the key and value . it is also same as *args , means when we donn't know that how many argument is required so that we can use **kwars(keyword argumnet) and in that arguments is not define in advance ,  we can insert n number of argument as key and value in a functional arguments , is known as ** kwargs."
   ]
  },
  {
   "cell_type": "markdown",
   "id": "791e14f6",
   "metadata": {},
   "source": [
    "#### Q5) Explain the iterator function "
   ]
  },
  {
   "cell_type": "markdown",
   "id": "5e865b98",
   "metadata": {},
   "source": [
    "by using iterator function it show the list element one by one as compared to show the list as whole , by  showing the element of list one by one it is easy to understand , read and process .  basically in data science , when we have large data so it is difficult to store in a memory , so we use iterator function it allow to read and process one piece of data at a time , by that it is easy  to read and process. we use iter() function and then next()."
   ]
  },
  {
   "cell_type": "markdown",
   "id": "330acffd",
   "metadata": {},
   "source": [
    "#### Q6) Write a code that generates the square of numbers from 1 to n using a generator "
   ]
  },
  {
   "cell_type": "code",
   "execution_count": 53,
   "id": "615bed87",
   "metadata": {},
   "outputs": [
    {
     "name": "stdout",
     "output_type": "stream",
     "text": [
      "1\n",
      "4\n",
      "9\n",
      "16\n",
      "25\n",
      "36\n",
      "49\n",
      "64\n",
      "81\n",
      "100\n",
      "121\n",
      "144\n",
      "169\n",
      "196\n",
      "225\n"
     ]
    }
   ],
   "source": [
    "def  gen_squares(n):\n",
    "    for i in range(1, n + 1):\n",
    "        yield i ** 2\n",
    "n = 15\n",
    "sq = gen_squares(n)\n",
    "for square in sq:\n",
    "    print(square)\n"
   ]
  },
  {
   "cell_type": "markdown",
   "id": "5208a4f6",
   "metadata": {},
   "source": [
    "#### Q7) Write a code that generates palindromic number up to n using generator "
   ]
  },
  {
   "cell_type": "code",
   "execution_count": 58,
   "id": "18ff160e",
   "metadata": {},
   "outputs": [
    {
     "name": "stdout",
     "output_type": "stream",
     "text": [
      "1\n",
      "2\n",
      "3\n",
      "4\n",
      "5\n",
      "6\n",
      "7\n",
      "8\n",
      "9\n",
      "11\n",
      "22\n",
      "33\n",
      "44\n"
     ]
    }
   ],
   "source": [
    "def is_palindrome(num):\n",
    "    return str(num) == str(num)[::-1]\n",
    "\n",
    "def generate_palindromes(n):\n",
    "    for i in range(1, n + 1):\n",
    "        if is_palindrome(i):\n",
    "            yield i\n",
    "\n",
    "# Example usage\n",
    "n = 50\n",
    "palindromes = generate_palindromes(n)\n",
    "for palindrome in palindromes:\n",
    "    print(palindrome)\n"
   ]
  },
  {
   "cell_type": "markdown",
   "id": "48151548",
   "metadata": {},
   "source": [
    "#### Q8) Write a code that generates even numbers from 2 to n using a generator ."
   ]
  },
  {
   "cell_type": "code",
   "execution_count": 71,
   "id": "84c77791",
   "metadata": {},
   "outputs": [
    {
     "name": "stdout",
     "output_type": "stream",
     "text": [
      "2\n",
      "4\n",
      "6\n",
      "8\n",
      "10\n",
      "12\n",
      "14\n",
      "16\n",
      "18\n",
      "20\n",
      "22\n",
      "24\n",
      "26\n",
      "28\n",
      "30\n"
     ]
    }
   ],
   "source": [
    "def even_number(num):\n",
    "    for i in range(2,num+1):\n",
    "        if i % 2 == 0 :\n",
    "            yield i \n",
    "\n",
    "            \n",
    "num = 30 \n",
    "even_numbers = even_number(30)\n",
    "for even in even_numbers :\n",
    "    print(even)"
   ]
  },
  {
   "cell_type": "markdown",
   "id": "2c716732",
   "metadata": {},
   "source": [
    "#### Q9 ) Write a code that generates power of two up to n using a generator "
   ]
  },
  {
   "cell_type": "code",
   "execution_count": 73,
   "id": "e93d770d",
   "metadata": {},
   "outputs": [
    {
     "name": "stdout",
     "output_type": "stream",
     "text": [
      "1\n",
      "4\n",
      "9\n",
      "16\n",
      "25\n",
      "36\n",
      "49\n"
     ]
    }
   ],
   "source": [
    "def fun(n):\n",
    "    for i in range(1,n+1):\n",
    "        yield i**2\n",
    "\n",
    "n = 7 \n",
    "power = fun(7)\n",
    "for pow "
   ]
  },
  {
   "cell_type": "markdown",
   "id": "85ecea5a",
   "metadata": {},
   "source": [
    "#### Q10) Write a code that generates prime number up to n using generator"
   ]
  },
  {
   "cell_type": "code",
   "execution_count": 76,
   "id": "ba2c8ff1",
   "metadata": {},
   "outputs": [
    {
     "name": "stdout",
     "output_type": "stream",
     "text": [
      "2\n",
      "3\n",
      "5\n",
      "7\n",
      "11\n",
      "13\n",
      "17\n",
      "19\n",
      "23\n",
      "29\n",
      "31\n",
      "37\n",
      "41\n",
      "43\n",
      "47\n"
     ]
    }
   ],
   "source": [
    "def is_prime(num):\n",
    "    if num < 2:\n",
    "        return False\n",
    "    for i in range(2, int(num**0.5) + 1):\n",
    "        if num % i == 0:\n",
    "            return False\n",
    "    return True\n",
    "\n",
    "def generate_primes(n):\n",
    "    for i in range(2, n + 1):\n",
    "        if is_prime(i):\n",
    "            yield i\n",
    "\n",
    "# Example usage\n",
    "n = 50\n",
    "primes = generate_primes(n)\n",
    "for prime in primes:\n",
    "    print(prime)\n"
   ]
  },
  {
   "cell_type": "markdown",
   "id": "ff6dbccd",
   "metadata": {},
   "source": [
    "#### Q11) write a code that uses a lambda function to calculate the sum of two numbers "
   ]
  },
  {
   "cell_type": "code",
   "execution_count": 8,
   "id": "da115b2b",
   "metadata": {},
   "outputs": [
    {
     "data": {
      "text/plain": [
       "10"
      ]
     },
     "execution_count": 8,
     "metadata": {},
     "output_type": "execute_result"
    }
   ],
   "source": [
    "sum_number = lambda x,y : x+y \n",
    "sum_number(5,5)"
   ]
  },
  {
   "cell_type": "markdown",
   "id": "f88181f0",
   "metadata": {},
   "source": [
    "#### Q12)  write a code that use lambda fucntion to calculate the square of given number "
   ]
  },
  {
   "cell_type": "code",
   "execution_count": 26,
   "id": "2a4e79fc",
   "metadata": {},
   "outputs": [
    {
     "data": {
      "text/plain": [
       "25"
      ]
     },
     "execution_count": 26,
     "metadata": {},
     "output_type": "execute_result"
    }
   ],
   "source": [
    "square_number = lambda x : x**2 \n",
    "square_number(5)"
   ]
  },
  {
   "cell_type": "markdown",
   "id": "4f3ed97a",
   "metadata": {},
   "source": [
    "#### Q13)  write a code that use lambda fucntion to check whether a given number is even or odd \n",
    "\n"
   ]
  },
  {
   "cell_type": "code",
   "execution_count": 15,
   "id": "5a1f4c1c",
   "metadata": {},
   "outputs": [
    {
     "data": {
      "text/plain": [
       "'odd'"
      ]
     },
     "execution_count": 15,
     "metadata": {},
     "output_type": "execute_result"
    }
   ],
   "source": [
    "check_number = lambda x :  \"even\"if x%2==0 else \"odd\"\n",
    "check_number(7)"
   ]
  },
  {
   "cell_type": "markdown",
   "id": "abfcfabf",
   "metadata": {},
   "source": [
    "#### Q 14) write a code that use lambda fucntion to concatenate two strings"
   ]
  },
  {
   "cell_type": "code",
   "execution_count": 16,
   "id": "524c7a35",
   "metadata": {},
   "outputs": [
    {
     "data": {
      "text/plain": [
       "'dataskills'"
      ]
     },
     "execution_count": 16,
     "metadata": {},
     "output_type": "execute_result"
    }
   ],
   "source": [
    "string = lambda x,y : x + y \n",
    "string(\"data\",\"skills\")"
   ]
  },
  {
   "cell_type": "markdown",
   "id": "8bf5890e",
   "metadata": {},
   "source": [
    "#### Q15) write a code that use lambda function to find the maximum of three given numbers."
   ]
  },
  {
   "cell_type": "code",
   "execution_count": 21,
   "id": "0a7acc89",
   "metadata": {},
   "outputs": [
    {
     "name": "stdout",
     "output_type": "stream",
     "text": [
      "the maximum of  this 10 , 15 and 30 is 30\n"
     ]
    }
   ],
   "source": [
    "max_num = lambda x,y,z : max(x,y,z)\n",
    "num1 = 10 \n",
    "num2 = 15\n",
    "num3 = 30\n",
    "\n",
    "result = max_num(num1,num2,num3)\n",
    "\n",
    "print(f\"the maximum of  this {num1} , {num2} and {num3} is {result}\")"
   ]
  },
  {
   "cell_type": "code",
   "execution_count": 35,
   "id": "a2c20fa3",
   "metadata": {},
   "outputs": [
    {
     "name": "stdout",
     "output_type": "stream",
     "text": [
      "the maximum of  this 100 , 115 and 130 is 130\n"
     ]
    }
   ],
   "source": [
    "max_num = lambda x,y,z : max(x,y,z)\n",
    "x = 100\n",
    "y = 115\n",
    "z = 130\n",
    "\n",
    "result = max_num(x,y,z)\n",
    "\n",
    "print(f\"the maximum of  this {x} , {y} and {z} is {result}\")"
   ]
  },
  {
   "cell_type": "markdown",
   "id": "7460eee5",
   "metadata": {},
   "source": [
    "#### Q16 ) write a code that generates the square of even number from a given list . "
   ]
  },
  {
   "cell_type": "code",
   "execution_count": 31,
   "id": "d5a1f95b",
   "metadata": {},
   "outputs": [],
   "source": [
    "def function(*args):\n",
    "    n = []\n",
    "    for i in args : \n",
    "        if i % 2 == 0 : \n",
    "            n.append(i**2)\n",
    "    return n"
   ]
  },
  {
   "cell_type": "code",
   "execution_count": 33,
   "id": "39e29437",
   "metadata": {},
   "outputs": [
    {
     "name": "stdout",
     "output_type": "stream",
     "text": [
      "[4, 16, 64]\n"
     ]
    }
   ],
   "source": [
    "args=[1,2,3,4,5,8]\n",
    "result=function(*args)\n",
    "print(result)"
   ]
  },
  {
   "cell_type": "markdown",
   "id": "59fada97",
   "metadata": {},
   "source": [
    "#### Q17) Write a code that calculate the product of positive number from a given list "
   ]
  },
  {
   "cell_type": "code",
   "execution_count": 38,
   "id": "05eccb54",
   "metadata": {},
   "outputs": [],
   "source": [
    "def fun(*args):\n",
    "    \n",
    "    result = 1 \n",
    "    \n",
    "    for i in args : \n",
    "        if i>0 :\n",
    "            result = result * i \n",
    "    \n",
    "    return result \n",
    "    "
   ]
  },
  {
   "cell_type": "code",
   "execution_count": 40,
   "id": "0ec42011",
   "metadata": {},
   "outputs": [
    {
     "name": "stdout",
     "output_type": "stream",
     "text": [
      "48\n"
     ]
    }
   ],
   "source": [
    "args = [-1,-2,2,4,6]\n",
    "product_positive_list=fun(*args)\n",
    "print(product_positive_list)"
   ]
  },
  {
   "cell_type": "markdown",
   "id": "77c090d7",
   "metadata": {},
   "source": [
    "#### Q18) Write a code that doubles the value of odd number froma given list "
   ]
  },
  {
   "cell_type": "code",
   "execution_count": 10,
   "id": "d7df81fb",
   "metadata": {},
   "outputs": [
    {
     "name": "stdout",
     "output_type": "stream",
     "text": [
      "[2, 6, 10, 18]\n"
     ]
    }
   ],
   "source": [
    "def functions(*args):\n",
    "    double_odds =[]\n",
    "    for i in args :\n",
    "        if i % 2 != 0:\n",
    "            double_odds.append(i*2)\n",
    "        return double_odds\n",
    "numbers = [1, 2, 3, 5, 6, 8, 9]\n",
    "result = double_odd_numbers(*numbers)\n",
    "print(result)"
   ]
  },
  {
   "cell_type": "code",
   "execution_count": 13,
   "id": "9e4620c1",
   "metadata": {},
   "outputs": [
    {
     "name": "stdout",
     "output_type": "stream",
     "text": [
      "[2, 6, 10, 18, 22, 26, 10, 14, 6]\n"
     ]
    }
   ],
   "source": [
    "def functions(*args):\n",
    "    for i in args :\n",
    "        if i % 2 != 0:\n",
    "             return i*2\n",
    "numbers = [1, 2, 3, 5, 6, 8, 9,10,11,12,13,4,5,7,3]\n",
    "result = double_odd_numbers(*numbers)\n",
    "print(result)"
   ]
  },
  {
   "cell_type": "markdown",
   "id": "48b80a39",
   "metadata": {},
   "source": [
    "#### Q19) Write a code that calculates the sum of cubes of numbers from a given list"
   ]
  },
  {
   "cell_type": "code",
   "execution_count": 17,
   "id": "7c702299",
   "metadata": {},
   "outputs": [],
   "source": [
    "def cube_num(*args):\n",
    "    s=0 \n",
    "    for i in args : \n",
    "        s = s + (i**3)\n",
    "    return s \n",
    "    "
   ]
  },
  {
   "cell_type": "code",
   "execution_count": 19,
   "id": "e8e2febe",
   "metadata": {},
   "outputs": [
    {
     "name": "stdout",
     "output_type": "stream",
     "text": [
      "784\n"
     ]
    }
   ],
   "source": [
    "args = [1,2,3,4,5,6,7]\n",
    "sum_odd_num=cube_num(*args)\n",
    "print(sum_odd_num)"
   ]
  },
  {
   "cell_type": "markdown",
   "id": "df0984ba",
   "metadata": {},
   "source": [
    "#### Q 20) Write a code that filter out prime number from a given list "
   ]
  },
  {
   "cell_type": "code",
   "execution_count": 21,
   "id": "c924a2a6",
   "metadata": {},
   "outputs": [
    {
     "name": "stdout",
     "output_type": "stream",
     "text": [
      "[2, 3, 5, 7, 11, 13, 17]\n"
     ]
    }
   ],
   "source": [
    "def is_prime(num):\n",
    "    if num > 1:\n",
    "        for i in range(2, num):\n",
    "            if (num % i) == 0:\n",
    "                return False\n",
    "        return True\n",
    "    return False\n",
    "\n",
    "def prime(*args):\n",
    "    primes = []\n",
    "    for num in args:\n",
    "        if is_prime(num):\n",
    "            primes.append(num)\n",
    "    return primes\n",
    "\n",
    "numbers = [1, 2, 3, 4, 5, 6, 7, 8, 9,11,13,15,16,17]\n",
    "prime_numbers = prime(*numbers)\n",
    "print(prime_numbers)\n"
   ]
  },
  {
   "cell_type": "markdown",
   "id": "ced90d67",
   "metadata": {},
   "source": [
    "#### Q21) write a code that uses a lambda function to calculate the sum of two numbers \n"
   ]
  },
  {
   "cell_type": "code",
   "execution_count": 24,
   "id": "5e0728bf",
   "metadata": {},
   "outputs": [
    {
     "data": {
      "text/plain": [
       "6"
      ]
     },
     "execution_count": 24,
     "metadata": {},
     "output_type": "execute_result"
    }
   ],
   "source": [
    "sum = lambda a,b : a + b\n",
    "sum(2,4)"
   ]
  },
  {
   "cell_type": "markdown",
   "id": "f7de1573",
   "metadata": {},
   "source": [
    "#### Q22)  write a code that use lambda fucntion to calculate the square of given number "
   ]
  },
  {
   "cell_type": "code",
   "execution_count": 25,
   "id": "e53b348c",
   "metadata": {},
   "outputs": [
    {
     "data": {
      "text/plain": [
       "16"
      ]
     },
     "execution_count": 25,
     "metadata": {},
     "output_type": "execute_result"
    }
   ],
   "source": [
    "square = lambda x : x**2\n",
    "square(4)"
   ]
  },
  {
   "cell_type": "markdown",
   "id": "5568e1f4",
   "metadata": {},
   "source": [
    "#### Q23)write a code that use lambda fucntion to check whether a given number is even or odd"
   ]
  },
  {
   "cell_type": "code",
   "execution_count": 28,
   "id": "9c51c22f",
   "metadata": {},
   "outputs": [
    {
     "data": {
      "text/plain": [
       "'even'"
      ]
     },
     "execution_count": 28,
     "metadata": {},
     "output_type": "execute_result"
    }
   ],
   "source": [
    "is_even_odd = lambda x : \"even\" if x % 2 == 0 else \"odd\"\n",
    "is_even_odd(4)"
   ]
  },
  {
   "cell_type": "markdown",
   "id": "446e78f2",
   "metadata": {},
   "source": [
    "#### Q24) write a code that use lambda fucntion to concatenate two strings"
   ]
  },
  {
   "cell_type": "code",
   "execution_count": 31,
   "id": "bd4d1ede",
   "metadata": {},
   "outputs": [
    {
     "data": {
      "text/plain": [
       "'data science'"
      ]
     },
     "execution_count": 31,
     "metadata": {},
     "output_type": "execute_result"
    }
   ],
   "source": [
    "concatenate = lambda x , y : x + y \n",
    "concatenate(\"data \" , \"science\" )"
   ]
  },
  {
   "cell_type": "markdown",
   "id": "06720b33",
   "metadata": {},
   "source": [
    "#### Q25) Write a code that uses a lambda function to find the maximum of three given numbers"
   ]
  },
  {
   "cell_type": "code",
   "execution_count": 34,
   "id": "6c88724a",
   "metadata": {},
   "outputs": [
    {
     "name": "stdout",
     "output_type": "stream",
     "text": [
      "from these three numbers 24 , 14 , 29 maximum number is 29\n"
     ]
    }
   ],
   "source": [
    "max_num = lambda x,y,z :max(x,y,z)\n",
    "\n",
    "x = 24 \n",
    "y = 14\n",
    "z = 29\n",
    " \n",
    "result = max_num(x,y,z)\n",
    "print(f\"from these three numbers {x} , {y} , {z} maximum number is {result}\" )\n"
   ]
  },
  {
   "cell_type": "markdown",
   "id": "5b2a9734",
   "metadata": {},
   "source": [
    "#### Q 26 ) What is encapsulation in oops ? "
   ]
  },
  {
   "cell_type": "markdown",
   "id": "9f949d98",
   "metadata": {},
   "source": [
    "Encapsulation means hiding something , in the encapsulation there are three things 1.public 2.private 3.protected . \n",
    "Encapsulation is the concept of bundling data (attributes) and methods (functions) that operate on the data into a class. "
   ]
  },
  {
   "cell_type": "markdown",
   "id": "32b5019f",
   "metadata": {},
   "source": [
    "#### Q28 ) Explain the use of access modifier in python classes. "
   ]
  },
  {
   "cell_type": "markdown",
   "id": "a3581849",
   "metadata": {},
   "source": [
    "Access modifiers in Python are used to set the accessibility of the members (attributes and methods) of a class. They control how the data in a class is accessed and modified. There are three types of access modifiers in Python: 1 . public 2 . private 3. protected \n",
    " \n",
    " \n",
    " \n",
    "1. public - the variables are access from anywhere inside or outside the class , no underscore . \n",
    "2. private - the variable are only access inside the class ,by using double underscore.\n",
    "3. protected - Accessible within the class and its subclasses. Single leading underscore.\n",
    "\n"
   ]
  },
  {
   "cell_type": "markdown",
   "id": "85dc2568",
   "metadata": {},
   "source": [
    "#### Q29) what is inheritance in oops ? \n"
   ]
  },
  {
   "cell_type": "markdown",
   "id": "2fef18e2",
   "metadata": {},
   "source": [
    "inheritance in oops means the property is recieved to a child class from their parent class. \n",
    "\n",
    "\n",
    "example :\n",
    "######  class Father :\n",
    "######     def father_property(self):\n",
    "######          print()\n",
    "###### class Child (Father):\n",
    "######     def child_property(self):\n",
    "######          print()\n",
    "\n",
    "\n",
    "\n",
    "\n",
    "\n",
    "\n",
    "\n",
    "\n",
    "         \n",
    " SYNTAX \n",
    "   \n",
    "    \n",
    "    Class Base class : \n",
    "         # body of base class \n",
    "            \n",
    "            \n",
    "    Class Derived class (Name of Base class)\n",
    "       \n",
    "        # body of derived class\n",
    "        \n",
    "         \n",
    "in that child  recieved the  property of therir parents and also have their property  , but the parent not recieved the property of their son.\n",
    "   "
   ]
  },
  {
   "cell_type": "markdown",
   "id": "3938b94a",
   "metadata": {},
   "source": [
    "#### Q30 ) define polymorphism in oop"
   ]
  },
  {
   "cell_type": "markdown",
   "id": "05559f45",
   "metadata": {},
   "source": [
    "Polymorphism is the ability of different objects to be accessed through the same interface, allowing functions or methods to operate on objects of different classes seamlessly. It means \"many forms\" and allows objects of different classes to be treated as objects of a common superclass.\n",
    "\n",
    "Polymorphism in object-oriented programming allows methods to do different things based on the object it is acting upon, even if they share the same name. It is divided into two types: method overloading and method overriding. , inside that there is two things first is overloading and second is over riding. In overloading , in that there is a class in which same name of method is there but inside that there is different names of arguments are there. \n",
    "and In over riding , there is number of classes are there in which they have same name of methods but ,  it only executes the child class , because it has more power .\n"
   ]
  },
  {
   "cell_type": "markdown",
   "id": "22006648",
   "metadata": {},
   "source": [
    "#### Q31 ) Explain method overriding in python"
   ]
  },
  {
   "cell_type": "markdown",
   "id": "6965b7db",
   "metadata": {},
   "source": [
    "In method overriding, a subclass provides a specific implementation of a method that is already provided by its superclass. When a subclass defines a method with the same name, same parameters, and same return type as a method in its superclass, the method in the subclass is said to override the method in the superclass."
   ]
  },
  {
   "cell_type": "markdown",
   "id": "fc348e93",
   "metadata": {},
   "source": [
    "#### Q32) "
   ]
  },
  {
   "cell_type": "code",
   "execution_count": 81,
   "id": "8b88a178",
   "metadata": {},
   "outputs": [],
   "source": [
    "class Animal :\n",
    "    def make_sound(self):\n",
    "        print(\"Generic animal sound\")\n",
    "class Dog(Animal):\n",
    "    def make_sound(self):\n",
    "        print(\"woof\")"
   ]
  },
  {
   "cell_type": "code",
   "execution_count": 84,
   "id": "24d82a73",
   "metadata": {},
   "outputs": [
    {
     "name": "stdout",
     "output_type": "stream",
     "text": [
      "Generic animal sound\n"
     ]
    }
   ],
   "source": [
    "animal = Animal()\n",
    "animal.make_sound()"
   ]
  },
  {
   "cell_type": "code",
   "execution_count": 86,
   "id": "79987e55",
   "metadata": {},
   "outputs": [
    {
     "name": "stdout",
     "output_type": "stream",
     "text": [
      "woof\n"
     ]
    }
   ],
   "source": [
    "obj = Dog()\n",
    "obj.make_sound()"
   ]
  },
  {
   "cell_type": "markdown",
   "id": "bd42d45b",
   "metadata": {},
   "source": [
    "#### Q33)"
   ]
  },
  {
   "cell_type": "code",
   "execution_count": 88,
   "id": "2217e5c1",
   "metadata": {},
   "outputs": [],
   "source": [
    "class Animal : \n",
    "    def move(self):\n",
    "        print(\"Animal moves\")\n",
    "class Dog(Animal) :\n",
    "    def move(self):\n",
    "        print(\"Dog runs\")"
   ]
  },
  {
   "cell_type": "code",
   "execution_count": 89,
   "id": "9ef5a5d2",
   "metadata": {},
   "outputs": [
    {
     "name": "stdout",
     "output_type": "stream",
     "text": [
      "Dog runs\n"
     ]
    }
   ],
   "source": [
    "object = Dog()\n",
    "object.move()"
   ]
  },
  {
   "cell_type": "markdown",
   "id": "f908b90c",
   "metadata": {},
   "source": [
    "#### Q34)"
   ]
  },
  {
   "cell_type": "code",
   "execution_count": 94,
   "id": "443eb806",
   "metadata": {},
   "outputs": [],
   "source": [
    "class Mammal :\n",
    "    def reproduce(self):\n",
    "        print(\"Giving birth to live young\")\n",
    "class Dog : \n",
    "    def speak(self):\n",
    "        print(\"Dog barks\")\n",
    "class DogMammal(Dog,Mammal):\n",
    "    pass"
   ]
  },
  {
   "cell_type": "code",
   "execution_count": 95,
   "id": "09a10285",
   "metadata": {},
   "outputs": [],
   "source": [
    "animal = DogMammal()"
   ]
  },
  {
   "cell_type": "code",
   "execution_count": 96,
   "id": "5d5761ec",
   "metadata": {},
   "outputs": [
    {
     "name": "stdout",
     "output_type": "stream",
     "text": [
      "Giving birth to live young\n"
     ]
    }
   ],
   "source": [
    "animal.reproduce()"
   ]
  },
  {
   "cell_type": "code",
   "execution_count": 97,
   "id": "220b189c",
   "metadata": {},
   "outputs": [
    {
     "name": "stdout",
     "output_type": "stream",
     "text": [
      "Dog barks\n"
     ]
    }
   ],
   "source": [
    "animal.speak()"
   ]
  },
  {
   "cell_type": "markdown",
   "id": "6bd337a2",
   "metadata": {},
   "source": [
    "#### Q35)"
   ]
  },
  {
   "cell_type": "code",
   "execution_count": 98,
   "id": "3136bb3a",
   "metadata": {},
   "outputs": [],
   "source": [
    "class Dog :\n",
    "    def make_sound(self):\n",
    "        print(\"woof\")\n",
    "\n",
    "class GermanShepherd(Dog) :\n",
    "    def make_sound(self):\n",
    "        print(\"Bark!\")"
   ]
  },
  {
   "cell_type": "code",
   "execution_count": 100,
   "id": "99ce4585",
   "metadata": {},
   "outputs": [
    {
     "name": "stdout",
     "output_type": "stream",
     "text": [
      "Bark!\n"
     ]
    }
   ],
   "source": [
    "obj=GermanShepherd()\n",
    "obj.make_sound()"
   ]
  },
  {
   "cell_type": "markdown",
   "id": "5b547d54",
   "metadata": {},
   "source": [
    "#### Q36)"
   ]
  },
  {
   "cell_type": "code",
   "execution_count": 109,
   "id": "e06e0d8e",
   "metadata": {},
   "outputs": [],
   "source": [
    "class Animal : \n",
    "    def __init__(self,name,sound,species):\n",
    "        self.name=name\n",
    "        self.sound=sound\n",
    "        self.species=species\n",
    "    def info(self):\n",
    "            print(f\"the name of animal is {self.name} , and the sound is {self.sound},and it belong to the species of {self.species}\")\n",
    "\n",
    "\n",
    "class Dogs :\n",
    "    def __init__(self,names,breed):\n",
    "        self.names=names\n",
    "        self.breeds=breeds\n",
    "\n",
    "    def information(self):\n",
    "        print(self.names,self.breeds)\n"
   ]
  },
  {
   "cell_type": "code",
   "execution_count": 108,
   "id": "8c3f7666",
   "metadata": {},
   "outputs": [
    {
     "name": "stdout",
     "output_type": "stream",
     "text": [
      "the name of animal is cow , and the sound is moo,and it belong to the species of domestic cattle\n"
     ]
    }
   ],
   "source": [
    "ob = Animal(\"cow\",\"moo\",\"domestic cattle\")\n",
    "ob.info()"
   ]
  },
  {
   "cell_type": "markdown",
   "id": "be5807fc",
   "metadata": {},
   "source": [
    "#### Q37) what is abstraction in python ? how is it implemented"
   ]
  },
  {
   "cell_type": "markdown",
   "id": "95f86cd3",
   "metadata": {},
   "source": [
    "to hide the complexity and make the code  simple . is known as abstraction ,n Python, abstraction is a concept used to hide the complex implementation details and only show the necessary features of an object. It allows you to focus on what an object does rather than how it does it. Abstraction is implemented using abstract classes and methods."
   ]
  },
  {
   "cell_type": "code",
   "execution_count": 110,
   "id": "93b1a9b8",
   "metadata": {},
   "outputs": [],
   "source": [
    "import abc\n",
    "\n",
    "class PWSkills(abc.ABC):\n",
    "    \n",
    "    @abc.abstractmethod\n",
    "    def student_details(self):\n",
    "        pass \n",
    "\n",
    "    @abc.abstractmethod\n",
    "    def student_assignment(self):\n",
    "        pass \n",
    "\n",
    "    @abc.abstractmethod\n",
    "    def student_marks(self):\n",
    "        pass\n",
    "\n",
    "class DataScience(PWSkills):\n",
    "    def student_details(self):\n",
    "        return \"data science course and I am student\"\n",
    "\n",
    "    def student_assignment(self):\n",
    "        return \"data science course and I am student\"\n",
    "\n",
    "    def student_marks(self):\n",
    "        return \"data science course marks\"\n",
    "\n",
    "class Webdev(PWSkills):\n",
    "    def student_details(self):\n",
    "        return \"web d course and I am student\"\n",
    "\n",
    "    def student_assignment(self):\n",
    "        return \"web assignment and I am student\"\n",
    "\n",
    "    def student_marks(self):\n",
    "        return \"web d marks course marks\"\n"
   ]
  },
  {
   "cell_type": "code",
   "execution_count": 111,
   "id": "0837bc44",
   "metadata": {},
   "outputs": [
    {
     "data": {
      "text/plain": [
       "'data science course and I am student'"
      ]
     },
     "execution_count": 111,
     "metadata": {},
     "output_type": "execute_result"
    }
   ],
   "source": [
    "obj = DataScience()\n",
    "obj.student_assignment()"
   ]
  },
  {
   "cell_type": "markdown",
   "id": "eb1c1038",
   "metadata": {},
   "source": [
    "#### Q38)"
   ]
  },
  {
   "cell_type": "markdown",
   "id": "7e536302",
   "metadata": {},
   "source": [
    "the importance of abstraction is that , we can hide the things which we not want to show in code , by that complexity is reduce, code will be neat and clear , it allow us to create reusable components."
   ]
  },
  {
   "cell_type": "markdown",
   "id": "ec8bf2fc",
   "metadata": {},
   "source": [
    "#### Q39)"
   ]
  },
  {
   "cell_type": "markdown",
   "id": "b34a7262",
   "metadata": {},
   "source": [
    "n Python, abstract methods are different from regular methods because they are declared in abstract classes but do not have an implementation. This means that abstract methods must be implemented by subclasses that inherit from the abstract class.\n",
    "\n",
    "Regular methods, on the other hand, have a complete implementation and can be directly called on objects of the class. They provide the actual functionality or behavior of the class.\n",
    "\n",
    "The key difference is that abstract methods serve as placeholders that define what methods must be implemented by subclasses, whereas regular methods provide the actual implementation of those methods. This allows abstract classes to define a common interface for a group of subclasses while leaving the specific implementation details to the subclasses themselves.\n",
    "\n",
    "\n",
    "\n",
    "\n",
    "\n",
    "\n",
    "\n"
   ]
  },
  {
   "cell_type": "markdown",
   "id": "9b7a9cd6",
   "metadata": {},
   "source": [
    "#### Q40)"
   ]
  },
  {
   "cell_type": "markdown",
   "id": "aa6133d3",
   "metadata": {},
   "source": [
    "In Python, abstraction using interfaces can be achieved using abstract base classes (ABCs) from the abc module. An interface in Python is defined as an abstract class that contains one or more abstract methods. These abstract methods define the interface's contract, specifying what methods must be implemented by classes that inherit from the interface.\n",
    "\n",
    "To create an interface in Python, you can use the ABC class from the abc module and decorate abstract methods with the @abstractmethod decorator. Classes that inherit from the interface must implement all abstract methods to provide concrete implementations."
   ]
  },
  {
   "cell_type": "markdown",
   "id": "51a482b3",
   "metadata": {},
   "source": [
    "#### Q41)"
   ]
  },
  {
   "cell_type": "code",
   "execution_count": 112,
   "id": "e7457597",
   "metadata": {},
   "outputs": [
    {
     "name": "stdout",
     "output_type": "stream",
     "text": [
      "Car fuel type: Petrol\n",
      "Bike fuel capacity: 10\n",
      "Truck fuel type: Diesel\n",
      "Car started\n",
      "Bike stopped\n",
      "Truck started\n"
     ]
    }
   ],
   "source": [
    "from abc import ABC, abstractmethod\n",
    "\n",
    "class Vehicle(ABC):\n",
    "    def __init__(self, fuel_type, fuel_capacity):\n",
    "        self.fuel_type = fuel_type\n",
    "        self.fuel_capacity = fuel_capacity\n",
    "\n",
    "    @abstractmethod\n",
    "    def start(self):\n",
    "        pass\n",
    "\n",
    "    @abstractmethod\n",
    "    def stop(self):\n",
    "        pass\n",
    "\n",
    "class Car(Vehicle):\n",
    "    def start(self):\n",
    "        return \"Car started\"\n",
    "\n",
    "    def stop(self):\n",
    "        return \"Car stopped\"\n",
    "\n",
    "class Bike(Vehicle):\n",
    "    def start(self):\n",
    "        return \"Bike started\"\n",
    "\n",
    "    def stop(self):\n",
    "        return \"Bike stopped\"\n",
    "\n",
    "class Truck(Vehicle):\n",
    "    def start(self):\n",
    "        return \"Truck started\"\n",
    "\n",
    "    def stop(self):\n",
    "        return \"Truck stopped\"\n",
    "\n",
    "car = Car(\"Petrol\", 50)\n",
    "bike = Bike(\"Petrol\", 10)\n",
    "truck = Truck(\"Diesel\", 200)\n",
    "\n",
    "print(\"Car fuel type:\", car.fuel_type)\n",
    "print(\"Bike fuel capacity:\", bike.fuel_capacity)\n",
    "print(\"Truck fuel type:\", truck.fuel_type)\n",
    "\n",
    "print(car.start())\n",
    "print(bike.stop())\n",
    "print(truck.start())\n"
   ]
  },
  {
   "cell_type": "markdown",
   "id": "b2a49b30",
   "metadata": {},
   "source": [
    "#### Q42)"
   ]
  },
  {
   "cell_type": "code",
   "execution_count": 128,
   "id": "147f7c38",
   "metadata": {},
   "outputs": [],
   "source": [
    "class Animals : \n",
    "    def __init__(self,name):\n",
    "        self.name=name\n",
    "    def info(self):\n",
    "        print(\"hello\")\n",
    "class Dog(Animals):\n",
    "    def __init__(self,names):\n",
    "        self.names=names\n",
    "    def info(self):\n",
    "        print(\"hi\")"
   ]
  },
  {
   "cell_type": "code",
   "execution_count": 129,
   "id": "54659cbb",
   "metadata": {},
   "outputs": [
    {
     "name": "stdout",
     "output_type": "stream",
     "text": [
      "hi\n"
     ]
    }
   ],
   "source": [
    "object = Dog(\"jack\")\n",
    "object.info()"
   ]
  },
  {
   "cell_type": "markdown",
   "id": "376075d4",
   "metadata": {},
   "source": [
    "#### Q43)"
   ]
  },
  {
   "cell_type": "code",
   "execution_count": 130,
   "id": "2f9253c0",
   "metadata": {},
   "outputs": [],
   "source": [
    "class Base_class :\n",
    "    def base(self):\n",
    "        print(\"class\")\n",
    "class Sub_class(Base_class):\n",
    "    def base(self):\n",
    "        print(\"classes\")\n",
    "        "
   ]
  },
  {
   "cell_type": "code",
   "execution_count": 133,
   "id": "170e5b3d",
   "metadata": {},
   "outputs": [
    {
     "name": "stdout",
     "output_type": "stream",
     "text": [
      "classes\n"
     ]
    }
   ],
   "source": [
    "pro=Sub_class()\n",
    "pro.base()"
   ]
  },
  {
   "cell_type": "markdown",
   "id": "71fc0b04",
   "metadata": {},
   "source": [
    "#### Q44)"
   ]
  },
  {
   "cell_type": "code",
   "execution_count": 138,
   "id": "5df16531",
   "metadata": {},
   "outputs": [],
   "source": [
    "class Base_class:\n",
    "    def infor(self):\n",
    "        print(\"hllo\")\n",
    "class Sub_class(Base_class):\n",
    "    def infor(self):\n",
    "        print(\"hello ji\")\n",
    "class Sub_class_1(Base_class):\n",
    "    def infor(self):\n",
    "        print(\"hi\")\n",
    "        \n"
   ]
  },
  {
   "cell_type": "code",
   "execution_count": 139,
   "id": "a0977b1b",
   "metadata": {},
   "outputs": [
    {
     "name": "stdout",
     "output_type": "stream",
     "text": [
      "hello ji\n"
     ]
    }
   ],
   "source": [
    "cls = Sub_class()\n",
    "cls.infor()"
   ]
  },
  {
   "cell_type": "markdown",
   "id": "25a1225e",
   "metadata": {},
   "source": [
    "#### Q45)"
   ]
  },
  {
   "cell_type": "markdown",
   "id": "991e55f1",
   "metadata": {},
   "source": [
    "Polymorphism improves code readability and reusability by allowing the same function or method to work in different ways depending on the object it is applied to. This means you can write a single function that can handle different types of objects, making your code cleaner and more readable. Additionally, it makes your code more reusable because you can apply the same function to new types of objects without modifying the function itself. This leads to less code duplication and easier maintenance, as you can extend your code with new functionalities without altering existing code."
   ]
  },
  {
   "cell_type": "markdown",
   "id": "8b197a8b",
   "metadata": {},
   "source": [
    "#### Q46)"
   ]
  },
  {
   "cell_type": "markdown",
   "id": "eab6b676",
   "metadata": {},
   "source": [
    "Python supports polymorphism with duck typing, which means that it doesn't require strict type checking. Instead, if an object behaves like a certain type (i.e., it has the necessary methods or attributes), it can be used as that type. This allows for more flexible and reusable code, as functions can operate on any object that meets the expected behavior, regardless of its specific class. This approach simplifies code and enhances its adaptability to different types of objects.\n",
    "\n",
    "\n",
    "\n",
    "\n",
    "\n"
   ]
  },
  {
   "cell_type": "markdown",
   "id": "f8dc77b6",
   "metadata": {},
   "source": [
    "#### Q47)"
   ]
  },
  {
   "cell_type": "markdown",
   "id": "5181de79",
   "metadata": {},
   "source": [
    "encapsulation basically achieve when we use double underscore to make attributes privates , so that variable is  not  accessible from outside the class.This helps maintain the integrity of the data and prevents unintended interference from outside the class."
   ]
  },
  {
   "cell_type": "markdown",
   "id": "5ed8e121",
   "metadata": {},
   "source": [
    "#### Q 48)"
   ]
  },
  {
   "cell_type": "markdown",
   "id": "22d2b4f8",
   "metadata": {},
   "source": [
    "encapsulation is bypassed , basically the double score that we use to make varibale is private is temporary by that it will not make varibale private for permanently . if we know the name of class and the variable name so we can bypass the attributes , the general form is object._class__variable name , by this we can access the private attribute."
   ]
  },
  {
   "cell_type": "markdown",
   "id": "b1e536c9",
   "metadata": {},
   "source": [
    "#### Q49)"
   ]
  },
  {
   "cell_type": "code",
   "execution_count": 147,
   "id": "089e4414",
   "metadata": {},
   "outputs": [],
   "source": [
    "class BankAccount :\n",
    "    def __init__(self,balance):\n",
    "        self.__balance=balance\n",
    "    def deposit(self,amount):\n",
    "        self.__balance = self.__balance + amount\n",
    "    def withdraw(self,amount):\n",
    "        if self.__balance >= amount :\n",
    "            self.__balance = self.__balance-amount\n",
    "            return True \n",
    "        else: \n",
    "            return False\n",
    "    def get_balance (self):\n",
    "        return self.__balance\n",
    "    \n",
    "        \n",
    "     "
   ]
  },
  {
   "cell_type": "code",
   "execution_count": 148,
   "id": "a076710a",
   "metadata": {},
   "outputs": [],
   "source": [
    "object = BankAccount(2000)\n",
    "object.deposit(1000)"
   ]
  },
  {
   "cell_type": "code",
   "execution_count": 149,
   "id": "bb0b7769",
   "metadata": {},
   "outputs": [
    {
     "data": {
      "text/plain": [
       "3000"
      ]
     },
     "execution_count": 149,
     "metadata": {},
     "output_type": "execute_result"
    }
   ],
   "source": [
    "object.get_balance()"
   ]
  },
  {
   "cell_type": "code",
   "execution_count": 150,
   "id": "d0f81228",
   "metadata": {},
   "outputs": [
    {
     "data": {
      "text/plain": [
       "True"
      ]
     },
     "execution_count": 150,
     "metadata": {},
     "output_type": "execute_result"
    }
   ],
   "source": [
    "object.withdraw(2500)\n"
   ]
  },
  {
   "cell_type": "code",
   "execution_count": 151,
   "id": "7701b5dd",
   "metadata": {},
   "outputs": [
    {
     "data": {
      "text/plain": [
       "500"
      ]
     },
     "execution_count": 151,
     "metadata": {},
     "output_type": "execute_result"
    }
   ],
   "source": [
    "object.get_balance()"
   ]
  },
  {
   "cell_type": "markdown",
   "id": "0dd629de",
   "metadata": {},
   "source": [
    "#### Q50) "
   ]
  },
  {
   "cell_type": "code",
   "execution_count": 156,
   "id": "585697a6",
   "metadata": {},
   "outputs": [
    {
     "name": "stdout",
     "output_type": "stream",
     "text": [
      "pw1234@gmail.com\n"
     ]
    }
   ],
   "source": [
    "class Person : \n",
    "    def __init__(self,name,email):\n",
    "        self.__name=name\n",
    "        self.__email=email\n",
    "    def set_email(self,email):\n",
    "        self.__email = email\n",
    "    def get_email(self):\n",
    "        return self.__email\n",
    "\n",
    "    \n",
    "    \n",
    "identity = Person(\"pw\",\"pw1234@gmail.com\")\n",
    "print(identity.get_email())\n",
    "\n"
   ]
  },
  {
   "cell_type": "code",
   "execution_count": 157,
   "id": "ebb29173",
   "metadata": {},
   "outputs": [],
   "source": [
    "identity.set_email(\"datascience2024@gmail.com\")"
   ]
  },
  {
   "cell_type": "code",
   "execution_count": 158,
   "id": "d406c771",
   "metadata": {},
   "outputs": [
    {
     "data": {
      "text/plain": [
       "'datascience2024@gmail.com'"
      ]
     },
     "execution_count": 158,
     "metadata": {},
     "output_type": "execute_result"
    }
   ],
   "source": [
    "identity.get_email()"
   ]
  },
  {
   "cell_type": "markdown",
   "id": "e7ad975c",
   "metadata": {},
   "source": [
    "#### Q 51) Why is encapsulation considered a pillar of object-oriented programming ?"
   ]
  },
  {
   "cell_type": "markdown",
   "id": "c4fbe6bb",
   "metadata": {},
   "source": [
    "encapsulation is considered pillar of oops because by using encapsulation we can make the varibale private and protected so nobody from outside the class will change that variable and not able to access that variable. so by using encapsulation we keep the data protected from outside user and also  This helps in protecting data and maintaining the integrity of the class. , that's why we say that encapsulation is pillar of oops"
   ]
  },
  {
   "cell_type": "markdown",
   "id": "27ee2a5a",
   "metadata": {},
   "source": [
    "#### Q52)"
   ]
  },
  {
   "cell_type": "code",
   "execution_count": 8,
   "id": "6eee528e",
   "metadata": {},
   "outputs": [],
   "source": [
    "def decorator(fun):\n",
    "    def wrapper():\n",
    "        \n",
    "        print(\"line before the execution\")\n",
    "        fun()\n",
    "        print(\"line after the execution\")\n",
    "    return wrapper "
   ]
  },
  {
   "cell_type": "code",
   "execution_count": 9,
   "id": "20eba758",
   "metadata": {},
   "outputs": [],
   "source": [
    "@decorator\n",
    "def hello():\n",
    "    print(\"hello\")"
   ]
  },
  {
   "cell_type": "code",
   "execution_count": 10,
   "id": "3f5147b1",
   "metadata": {},
   "outputs": [
    {
     "name": "stdout",
     "output_type": "stream",
     "text": [
      "line before the execution\n",
      "hello\n",
      "line after the execution\n"
     ]
    }
   ],
   "source": [
    "hello()"
   ]
  },
  {
   "cell_type": "markdown",
   "id": "2c360aa7",
   "metadata": {},
   "source": [
    "#### Q53)"
   ]
  },
  {
   "cell_type": "code",
   "execution_count": 12,
   "id": "16c014d4",
   "metadata": {},
   "outputs": [],
   "source": [
    "def decorator(fun):\n",
    "    def wrapper(*args, **kwargs):\n",
    "        print(f\"Before executing {fun.__name__}\")\n",
    "        result = fun(*args, **kwargs)\n",
    "        print(f\"After executing {fun.__name__}\")\n",
    "        return result\n",
    "    return wrapper\n",
    "\n",
    "@decorator\n",
    "def hello():\n",
    "    print(\"hello\")\n",
    "\n",
    "@decorator\n",
    "def greet(name):\n",
    "    print(f\"Hello, {name}!\")\n",
    "\n"
   ]
  },
  {
   "cell_type": "code",
   "execution_count": 13,
   "id": "64c0d1ab",
   "metadata": {},
   "outputs": [
    {
     "name": "stdout",
     "output_type": "stream",
     "text": [
      "Before executing hello\n",
      "hello\n",
      "After executing hello\n",
      "Before executing greet\n",
      "Hello, pwSkills!\n",
      "After executing greet\n"
     ]
    }
   ],
   "source": [
    "hello()\n",
    "greet(\"pwSkills\")\n"
   ]
  },
  {
   "cell_type": "markdown",
   "id": "aea8c27e",
   "metadata": {},
   "source": [
    "#### Q54)"
   ]
  },
  {
   "cell_type": "code",
   "execution_count": 17,
   "id": "b15b6bd1",
   "metadata": {},
   "outputs": [],
   "source": [
    "def decorator(fun):\n",
    "    def wrapper():\n",
    "        print(\"Before executing\")\n",
    "        fun()\n",
    "        print(\"After executing\")\n",
    "    return wrapper \n",
    "def decorator2(fun):\n",
    "    def wrapper():\n",
    "        print(\"Before execute\")\n",
    "        fun()\n",
    "        print(\"After executing\")\n",
    "    return wrapper "
   ]
  },
  {
   "cell_type": "code",
   "execution_count": 18,
   "id": "b72b9251",
   "metadata": {},
   "outputs": [],
   "source": [
    "@decorator\n",
    "@decorator2\n",
    "\n",
    "def say_hi():\n",
    "    print(\"hello ji\")"
   ]
  },
  {
   "cell_type": "code",
   "execution_count": 19,
   "id": "b78e1cf2",
   "metadata": {},
   "outputs": [
    {
     "name": "stdout",
     "output_type": "stream",
     "text": [
      "before executing\n",
      "before execute\n",
      "hello ji\n",
      "after executing\n",
      "after executing\n"
     ]
    }
   ],
   "source": [
    "say_hi()"
   ]
  },
  {
   "cell_type": "markdown",
   "id": "e231363a",
   "metadata": {},
   "source": [
    "#### Q 55)"
   ]
  },
  {
   "cell_type": "code",
   "execution_count": 23,
   "id": "5bc9580a",
   "metadata": {},
   "outputs": [],
   "source": [
    "def decorator1(fun):\n",
    "    def wrapper(*args, **kwargs):\n",
    "        print(\"Before executing decorator1\")\n",
    "        result = fun(*args, **kwargs)\n",
    "        print(\"After executing decorator1\")\n",
    "        return result\n",
    "    return wrapper\n",
    "\n",
    "def decorator2(fun):\n",
    "    def wrapper(*args, **kwargs):\n",
    "        print(\"Before executing decorator2\")\n",
    "        result = fun(*args, **kwargs)\n",
    "        print(\"After executing decorator2\")\n",
    "        return result\n",
    "    return wrapper\n"
   ]
  },
  {
   "cell_type": "code",
   "execution_count": 26,
   "id": "4c26dd0d",
   "metadata": {},
   "outputs": [],
   "source": [
    "@decorator1\n",
    "@decorator2\n",
    "\n",
    "def hello(name):\n",
    "    print(f\"Hello, {name}\")\n",
    "\n"
   ]
  },
  {
   "cell_type": "code",
   "execution_count": 27,
   "id": "0cc9881b",
   "metadata": {},
   "outputs": [
    {
     "name": "stdout",
     "output_type": "stream",
     "text": [
      "Before executing decorator1\n",
      "Before executing decorator2\n",
      "Hello, pw_students\n",
      "After executing decorator2\n",
      "After executing decorator1\n"
     ]
    }
   ],
   "source": [
    "hello(\"pw_students\")"
   ]
  },
  {
   "cell_type": "markdown",
   "id": "2ec2b705",
   "metadata": {},
   "source": [
    "#### Q 56 )"
   ]
  },
  {
   "cell_type": "code",
   "execution_count": 35,
   "id": "9aeaa47a",
   "metadata": {},
   "outputs": [],
   "source": [
    "import functools\n",
    "\n",
    "def decorator1(fun):\n",
    "    @functools.wraps(fun)\n",
    "    def wrapper(*args, **kwargs):\n",
    "        print(\"Before executing decorator1\")\n",
    "        result = fun(*args, **kwargs)\n",
    "        print(\"After executing decorator1\")\n",
    "        return result\n",
    "    return wrapper\n",
    "\n",
    "def decorator2(fun):\n",
    "    @functools.wraps(fun)\n",
    "    def wrapper(*args, **kwargs):\n",
    "        print(\"Before executing decorator2\")\n",
    "        result = fun(*args, **kwargs)\n",
    "        print(\"After executing decorator2\")\n",
    "        return result\n",
    "    return wrapper\n"
   ]
  },
  {
   "cell_type": "code",
   "execution_count": 36,
   "id": "995b3533",
   "metadata": {},
   "outputs": [],
   "source": [
    "@decorator1\n",
    "@decorator2\n",
    "def hello(name):\n",
    "    \"\"\"This function greets the person with the given name.\"\"\"\n",
    "    print(f\"Hello, {name}\")\n"
   ]
  },
  {
   "cell_type": "code",
   "execution_count": 37,
   "id": "532d813b",
   "metadata": {},
   "outputs": [
    {
     "name": "stdout",
     "output_type": "stream",
     "text": [
      "Before executing decorator1\n",
      "Before executing decorator2\n",
      "Hello, Students\n",
      "After executing decorator2\n",
      "After executing decorator1\n"
     ]
    }
   ],
   "source": [
    "hello(\"Students\")"
   ]
  },
  {
   "cell_type": "code",
   "execution_count": 38,
   "id": "8e65ca58",
   "metadata": {},
   "outputs": [
    {
     "name": "stdout",
     "output_type": "stream",
     "text": [
      "hello\n",
      "This function greets the person with the given name.\n"
     ]
    }
   ],
   "source": [
    "print(hello.__name__) \n",
    "print(hello.__doc__)\n"
   ]
  },
  {
   "cell_type": "markdown",
   "id": "b8dabdca",
   "metadata": {},
   "source": [
    "#### Q57)"
   ]
  },
  {
   "cell_type": "code",
   "execution_count": 40,
   "id": "81ab1134",
   "metadata": {},
   "outputs": [],
   "source": [
    "class Calculator : \n",
    "    @staticmethod\n",
    "    def add(x,y):\n",
    "        return x+y\n",
    "    "
   ]
  },
  {
   "cell_type": "code",
   "execution_count": 42,
   "id": "31fb2004",
   "metadata": {},
   "outputs": [
    {
     "data": {
      "text/plain": [
       "17"
      ]
     },
     "execution_count": 42,
     "metadata": {},
     "output_type": "execute_result"
    }
   ],
   "source": [
    "Calculator.add(10,7)"
   ]
  },
  {
   "cell_type": "markdown",
   "id": "af2e6a6c",
   "metadata": {},
   "source": [
    "#### Q58)"
   ]
  },
  {
   "cell_type": "code",
   "execution_count": 55,
   "id": "f704c4df",
   "metadata": {},
   "outputs": [],
   "source": [
    "class Employee :\n",
    "    employee_count = 0\n",
    "    def __init__(self,name,age):\n",
    "        self.name = name\n",
    "        self.age = age \n",
    "        Employee.employee_count += 1\n",
    "        \n",
    "    @classmethod\n",
    "    def get_employee_info(cls):\n",
    "            return cls.employee_count\n",
    "    def employee_info(self):\n",
    "            return f\"employee name is : {self.name} , age of employee is : {self.age}\"\n",
    "        "
   ]
  },
  {
   "cell_type": "code",
   "execution_count": 56,
   "id": "057f619b",
   "metadata": {},
   "outputs": [],
   "source": [
    "obj=Employee(\"Ag\",\"21\")"
   ]
  },
  {
   "cell_type": "code",
   "execution_count": 57,
   "id": "f1ae205f",
   "metadata": {},
   "outputs": [
    {
     "data": {
      "text/plain": [
       "'employee name is : Ag , age of employee is : 21'"
      ]
     },
     "execution_count": 57,
     "metadata": {},
     "output_type": "execute_result"
    }
   ],
   "source": [
    "obj.employee_info()"
   ]
  },
  {
   "cell_type": "code",
   "execution_count": 58,
   "id": "5637e612",
   "metadata": {},
   "outputs": [
    {
     "data": {
      "text/plain": [
       "1"
      ]
     },
     "execution_count": 58,
     "metadata": {},
     "output_type": "execute_result"
    }
   ],
   "source": [
    "Employee.get_employee_info()"
   ]
  },
  {
   "cell_type": "markdown",
   "id": "d7f5e8b4",
   "metadata": {},
   "source": [
    "#### Q59)"
   ]
  },
  {
   "cell_type": "code",
   "execution_count": 61,
   "id": "59df0d8a",
   "metadata": {},
   "outputs": [],
   "source": [
    "class StringFormatter:\n",
    "    @staticmethod\n",
    "    def reverse_string(input_string):\n",
    "        return input_string[::-1]\n",
    "\n"
   ]
  },
  {
   "cell_type": "code",
   "execution_count": 62,
   "id": "8a4bf689",
   "metadata": {},
   "outputs": [],
   "source": [
    "reversed_string = StringFormatter.reverse_string(\"Hello,Students\")\n"
   ]
  },
  {
   "cell_type": "code",
   "execution_count": 63,
   "id": "8a8435bd",
   "metadata": {},
   "outputs": [
    {
     "name": "stdout",
     "output_type": "stream",
     "text": [
      "Reversed String: stnedutS,olleH\n"
     ]
    }
   ],
   "source": [
    "print(\"Reversed String:\", reversed_string)\n"
   ]
  },
  {
   "cell_type": "markdown",
   "id": "f5679e22",
   "metadata": {},
   "source": [
    "#### Q60) "
   ]
  },
  {
   "cell_type": "code",
   "execution_count": 68,
   "id": "61d0ae7c",
   "metadata": {},
   "outputs": [],
   "source": [
    "class Circle :\n",
    "    def __init__(self,radius):\n",
    "        self._radius=radius\n",
    "    @property\n",
    "    def radius(self):\n",
    "        return self._radius\n",
    "    def area(self):\n",
    "        return 3.14*self._radius*self._radius"
   ]
  },
  {
   "cell_type": "code",
   "execution_count": 74,
   "id": "0a2b737e",
   "metadata": {},
   "outputs": [
    {
     "data": {
      "text/plain": [
       "12.56"
      ]
     },
     "execution_count": 74,
     "metadata": {},
     "output_type": "execute_result"
    }
   ],
   "source": [
    "AREA_CIRCLE = Circle(2)\n",
    "AREA_CIRCLE.area()\n"
   ]
  },
  {
   "cell_type": "markdown",
   "id": "6a532c5c",
   "metadata": {},
   "source": [
    "#### Q61)"
   ]
  },
  {
   "cell_type": "code",
   "execution_count": 75,
   "id": "ea4a4080",
   "metadata": {},
   "outputs": [],
   "source": [
    "class TemperatureConverter:\n",
    "    @staticmethod\n",
    "    def celsius_to_fahrenheit(celsius):\n",
    "        return (celsius*9/5)+32"
   ]
  },
  {
   "cell_type": "code",
   "execution_count": 76,
   "id": "ae181ef9",
   "metadata": {},
   "outputs": [
    {
     "data": {
      "text/plain": [
       "86.0"
      ]
     },
     "execution_count": 76,
     "metadata": {},
     "output_type": "execute_result"
    }
   ],
   "source": [
    "TemperatureConverter.celsius_to_fahrenheit(30)"
   ]
  },
  {
   "cell_type": "markdown",
   "id": "06610670",
   "metadata": {},
   "source": [
    "#### Q62)"
   ]
  },
  {
   "cell_type": "markdown",
   "id": "bb894ca3",
   "metadata": {},
   "source": [
    "The __str__() method in Python classes is used to define a custom string representation of an object. It is called by the str() function and the print() function to get the string representation of the object. This method should return a string that represents the object in a human-readable format.\n",
    "\n"
   ]
  },
  {
   "cell_type": "code",
   "execution_count": 77,
   "id": "08f042af",
   "metadata": {},
   "outputs": [
    {
     "name": "stdout",
     "output_type": "stream",
     "text": [
      "Person: rg, Age: 20\n",
      "Person: rg, Age: 20\n"
     ]
    }
   ],
   "source": [
    "class Person:\n",
    "    def __init__(self, name, age):\n",
    "        self.name = name\n",
    "        self.age = age\n",
    "\n",
    "    def __str__(self):\n",
    "        return f\"Person: {self.name}, Age: {self.age}\"\n",
    "\n",
    "person = Person(\"rg\", 20)\n",
    "\n",
    "print(person)\n",
    "\n",
    "print(str(person))  \n"
   ]
  },
  {
   "cell_type": "markdown",
   "id": "4d6742bf",
   "metadata": {},
   "source": [
    "#### Q63)"
   ]
  },
  {
   "cell_type": "markdown",
   "id": "6b3fd722",
   "metadata": {},
   "source": [
    "__len__ : it is used to define the length of the object . bu using len() and this is in-built  funuction in python , by using len() ,it measure the length of the object. "
   ]
  },
  {
   "cell_type": "code",
   "execution_count": 80,
   "id": "200f9395",
   "metadata": {},
   "outputs": [],
   "source": [
    "class MyList:\n",
    "    def __init__(self, data):\n",
    "        self.data = data\n",
    "\n",
    "    def __len__(self):\n",
    "        return len(self.data)\n",
    "\n"
   ]
  },
  {
   "cell_type": "code",
   "execution_count": 81,
   "id": "983fc0f5",
   "metadata": {},
   "outputs": [
    {
     "data": {
      "text/plain": [
       "[1, 2, 3, 4, 5]"
      ]
     },
     "execution_count": 81,
     "metadata": {},
     "output_type": "execute_result"
    }
   ],
   "source": [
    "my_list = MyList([1, 2, 3, 4, 5])\n",
    "my_list.data"
   ]
  },
  {
   "cell_type": "code",
   "execution_count": 104,
   "id": "b72db2bb",
   "metadata": {},
   "outputs": [
    {
     "data": {
      "text/plain": [
       "5"
      ]
     },
     "execution_count": 104,
     "metadata": {},
     "output_type": "execute_result"
    }
   ],
   "source": [
    "len(my_list)"
   ]
  },
  {
   "cell_type": "markdown",
   "id": "83188af8",
   "metadata": {},
   "source": [
    "#### Q64)"
   ]
  },
  {
   "cell_type": "markdown",
   "id": "cad0758b",
   "metadata": {},
   "source": [
    "__add__(): add()function is basically a in-built function in python ,which used to add the object , or combine the object together ."
   ]
  },
  {
   "cell_type": "code",
   "execution_count": 100,
   "id": "05833705",
   "metadata": {},
   "outputs": [],
   "source": [
    "class func :\n",
    "    def __init__(self,age):\n",
    "        self.age=age\n",
    "    \n",
    "    def __add__(self,other):\n",
    "        return self.age + other\n",
    " \n",
    "\n",
    "\n"
   ]
  },
  {
   "cell_type": "code",
   "execution_count": 101,
   "id": "73d6d73d",
   "metadata": {},
   "outputs": [],
   "source": [
    "object1 = func(22)\n"
   ]
  },
  {
   "cell_type": "code",
   "execution_count": 102,
   "id": "76e867da",
   "metadata": {},
   "outputs": [],
   "source": [
    "new_age = object1 + 10 "
   ]
  },
  {
   "cell_type": "code",
   "execution_count": 103,
   "id": "cef85f81",
   "metadata": {},
   "outputs": [
    {
     "name": "stdout",
     "output_type": "stream",
     "text": [
      "32\n"
     ]
    }
   ],
   "source": [
    "print(new_age)"
   ]
  },
  {
   "cell_type": "markdown",
   "id": "bb1607c3",
   "metadata": {},
   "source": [
    "#### Q65)"
   ]
  },
  {
   "cell_type": "markdown",
   "id": "eb05ca93",
   "metadata": {},
   "source": [
    "The __getitem__() method in Python is used to access items from a collection such as lists, tuples, or custom objects that support indexing. It allows objects to be indexed using square brackets ([]). This method is called when you use indexing syntax to retrieve an item from an object."
   ]
  },
  {
   "cell_type": "code",
   "execution_count": 105,
   "id": "e0078f16",
   "metadata": {},
   "outputs": [
    {
     "name": "stdout",
     "output_type": "stream",
     "text": [
      "1\n",
      "3\n"
     ]
    }
   ],
   "source": [
    "class MyList:\n",
    "    def __init__(self, data):\n",
    "        self.data = data\n",
    "\n",
    "    def __getitem__(self, index):\n",
    "        return self.data[index]\n",
    "\n",
    "my_list = MyList([1, 2, 3, 4, 5])\n",
    "\n",
    "print(my_list[0])\n",
    "print(my_list[2]) \n"
   ]
  },
  {
   "cell_type": "markdown",
   "id": "8dca6332",
   "metadata": {},
   "source": [
    "#### Q66)"
   ]
  },
  {
   "cell_type": "markdown",
   "id": "411c1449",
   "metadata": {},
   "source": [
    "__iter__ : iter() is a python in-built function in which it will not show the whole element of list at a time , iter() is used to show one by one element of list at a time, so that element are read and process properly .  in data science field , basically it is used when we have a bij data , so it is difficult to store in a memory , so that we will use iterator function by that , data will read and process one by one at a time . \n",
    "__next__ : next() , it is used to go on to next element , basically when you use iter() , to check each element one by one , so for going on to next elements we use next() , function . \n",
    "iterators are used whenever you want to iterate over a sequence of elements one at a time, which can be useful for any size of data.\n"
   ]
  },
  {
   "cell_type": "code",
   "execution_count": 107,
   "id": "5cdaa9b1",
   "metadata": {},
   "outputs": [
    {
     "name": "stdout",
     "output_type": "stream",
     "text": [
      "1\n",
      "2\n",
      "3\n",
      "4\n",
      "5\n"
     ]
    }
   ],
   "source": [
    "class MyIterator:\n",
    "    def __init__(self, data):\n",
    "        self.data = data\n",
    "        self.index = 0\n",
    "\n",
    "    def __iter__(self):\n",
    "        return self\n",
    "\n",
    "    def __next__(self):\n",
    "        if self.index >= len(self.data):\n",
    "            raise StopIteration\n",
    "        result = self.data[self.index]\n",
    "        self.index += 1\n",
    "        return result\n",
    "\n",
    "my_list = [1, 2, 3, 4, 5]\n",
    "my_iterator = MyIterator(my_list)\n",
    "\n",
    "for item in my_iterator:\n",
    "    print(item)\n"
   ]
  },
  {
   "cell_type": "markdown",
   "id": "aefc01db",
   "metadata": {},
   "source": [
    "#### Q67)"
   ]
  },
  {
   "cell_type": "markdown",
   "id": "c549e0d3",
   "metadata": {},
   "source": [
    "n Python, a getter method is used to retrieve the value of an attribute of an object. It allows you to define a method that looks like an attribute access, but actually executes a method. This can be useful for implementing computed properties or for controlling access to attributes."
   ]
  },
  {
   "cell_type": "code",
   "execution_count": 109,
   "id": "b0aa6e4e",
   "metadata": {},
   "outputs": [
    {
     "name": "stdout",
     "output_type": "stream",
     "text": [
      "5\n"
     ]
    }
   ],
   "source": [
    "class Circle:\n",
    "    def __init__(self, radius):\n",
    "        self._radius = radius  \n",
    "    @property\n",
    "    def radius(self):\n",
    "        \"\"\"Getter method for retrieving the radius.\"\"\"\n",
    "        return self._radius\n",
    "\n",
    "circle = Circle(5)\n",
    "\n",
    "print(circle.radius)\n"
   ]
  },
  {
   "cell_type": "markdown",
   "id": "f05d138a",
   "metadata": {},
   "source": [
    "#### Q68)"
   ]
  },
  {
   "cell_type": "markdown",
   "id": "b0099802",
   "metadata": {},
   "source": [
    "The setter method in Python is used to modify the value of an attribute of an object. It allows you to define a method that looks like an attribute assignment, but actually executes a method. This can be useful for validating or processing the new value before assigning it to the attribute."
   ]
  },
  {
   "cell_type": "code",
   "execution_count": 110,
   "id": "83b3df39",
   "metadata": {},
   "outputs": [
    {
     "name": "stdout",
     "output_type": "stream",
     "text": [
      "10\n",
      "Radius cannot be negative\n"
     ]
    }
   ],
   "source": [
    "class Circle:\n",
    "    def __init__(self, radius):\n",
    "        self._radius = radius  \n",
    "\n",
    "    @property\n",
    "    def radius(self):\n",
    "        \"\"\"Getter method for retrieving the radius.\"\"\"\n",
    "        return self._radius\n",
    "\n",
    "    @radius.setter\n",
    "    def radius(self, value):\n",
    "        \"\"\"Setter method for modifying the radius.\"\"\"\n",
    "        if value < 0:\n",
    "            raise ValueError(\"Radius cannot be negative\")\n",
    "        self._radius = value\n",
    "\n",
    "circle = Circle(5)\n",
    "\n",
    "circle.radius = 10\n",
    "print(circle.radius)  \n",
    "\n",
    "try:\n",
    "    circle.radius = -5\n",
    "except ValueError as e:\n",
    "    print(e)\n"
   ]
  },
  {
   "cell_type": "markdown",
   "id": "3d5138df",
   "metadata": {},
   "source": [
    "#### Q69)"
   ]
  },
  {
   "cell_type": "markdown",
   "id": "1a6cc0a8",
   "metadata": {},
   "source": [
    "The @property decorator in Python is used to define properties on a class. It allows you to define a method that can be accessed like an attribute, providing a way to customize attribute access without changing the class interface."
   ]
  },
  {
   "cell_type": "code",
   "execution_count": 111,
   "id": "0e5761ab",
   "metadata": {},
   "outputs": [
    {
     "name": "stdout",
     "output_type": "stream",
     "text": [
      "5\n",
      "78.53975\n",
      "10\n",
      "314.159\n"
     ]
    }
   ],
   "source": [
    "class Circle:\n",
    "    def __init__(self, radius):\n",
    "        self._radius = radius\n",
    "\n",
    "    @property\n",
    "    def radius(self):\n",
    "        \"\"\"Getter method for retrieving the radius.\"\"\"\n",
    "        return self._radius\n",
    "\n",
    "    @radius.setter\n",
    "    def radius(self, value):\n",
    "        \"\"\"Setter method for modifying the radius.\"\"\"\n",
    "        if value < 0:\n",
    "            raise ValueError(\"Radius cannot be negative\")\n",
    "        self._radius = value\n",
    "\n",
    "    @property\n",
    "    def area(self):\n",
    "        \"\"\"Computed property for calculating the area of the circle.\"\"\"\n",
    "        return 3.14159 * self._radius ** 2\n",
    "\n",
    "circle = Circle(5)\n",
    "\n",
    "print(circle.radius) \n",
    "print(circle.area)    \n",
    "\n",
    "circle.radius = 10\n",
    "print(circle.radius) \n",
    "print(circle.area)   \n"
   ]
  },
  {
   "cell_type": "markdown",
   "id": "cb6cf1ff",
   "metadata": {},
   "source": [
    "#### Q70)"
   ]
  },
  {
   "cell_type": "markdown",
   "id": "ba83c03c",
   "metadata": {},
   "source": [
    "The @deleter decorator is not a standard decorator in Python. It seems like you might be referring to the @property decorator used in conjunction with del to define a deleter method for a property.\n",
    "\n"
   ]
  },
  {
   "cell_type": "code",
   "execution_count": 112,
   "id": "4f05f450",
   "metadata": {},
   "outputs": [
    {
     "name": "stdout",
     "output_type": "stream",
     "text": [
      "'Circle' object has no attribute '_radius'\n"
     ]
    }
   ],
   "source": [
    "class Circle:\n",
    "    def __init__(self, radius):\n",
    "        self._radius = radius\n",
    "\n",
    "    @property\n",
    "    def radius(self):\n",
    "        \"\"\"Getter method for retrieving the radius.\"\"\"\n",
    "        return self._radius\n",
    "\n",
    "    @radius.setter\n",
    "    def radius(self, value):\n",
    "        \"\"\"Setter method for modifying the radius.\"\"\"\n",
    "        if value < 0:\n",
    "            raise ValueError(\"Radius cannot be negative\")\n",
    "        self._radius = value\n",
    "\n",
    "    @radius.deleter\n",
    "    def radius(self):\n",
    "        \"\"\"Deleter method for deleting the radius attribute.\"\"\"\n",
    "        del self._radius\n",
    "\n",
    "circle = Circle(5)\n",
    "\n",
    "del circle.radius\n",
    "\n",
    "try:\n",
    "    print(circle.radius)\n",
    "except AttributeError as e:\n",
    "    print(e)\n"
   ]
  },
  {
   "cell_type": "markdown",
   "id": "b086a32d",
   "metadata": {},
   "source": [
    "#### Q71)"
   ]
  },
  {
   "cell_type": "markdown",
   "id": "aaf961e2",
   "metadata": {},
   "source": [
    "Encapsulation is a concept in object-oriented programming that refers to the bundling of data (attributes) and methods (functions) that operate on the data into a single unit or class. It helps in controlling the access to the data by restricting direct access to the data and providing methods to access and modify the data.\n",
    "\n",
    "In Python, the property decorator is often used to implement encapsulation by defining getter, setter, and deleter methods for attributes. This allows you to control how the attributes are accessed and modified, providing a level of encapsulation."
   ]
  },
  {
   "cell_type": "code",
   "execution_count": 113,
   "id": "41bf2dde",
   "metadata": {},
   "outputs": [
    {
     "name": "stdout",
     "output_type": "stream",
     "text": [
      "5\n",
      "5\n",
      "10\n",
      "Radius cannot be negative\n"
     ]
    }
   ],
   "source": [
    "class Circle:\n",
    "    def __init__(self, radius):\n",
    "        self._radius = radius  \n",
    "\n",
    "    @property\n",
    "    def radius(self):\n",
    "        \"\"\"Getter method for retrieving the radius.\"\"\"\n",
    "        return self._radius\n",
    "\n",
    "    @radius.setter\n",
    "    def radius(self, value):\n",
    "        \"\"\"Setter method for modifying the radius.\"\"\"\n",
    "        if value < 0:\n",
    "            raise ValueError(\"Radius cannot be negative\")\n",
    "        self._radius = value\n",
    "\n",
    "circle = Circle(5)\n",
    "\n",
    "print(circle.radius)  \n",
    "\n",
    "try:\n",
    "    print(circle._radius)\n",
    "except AttributeError as e:\n",
    "    print(e)\n",
    "\n",
    "circle.radius = 10\n",
    "print(circle.radius) \n",
    "\n",
    "try:\n",
    "    circle.radius = -5\n",
    "except ValueError as e:\n",
    "    print(e)\n"
   ]
  },
  {
   "cell_type": "code",
   "execution_count": null,
   "id": "c1c6bbc8",
   "metadata": {},
   "outputs": [],
   "source": []
  },
  {
   "cell_type": "code",
   "execution_count": null,
   "id": "35ce154d",
   "metadata": {},
   "outputs": [],
   "source": []
  },
  {
   "cell_type": "code",
   "execution_count": null,
   "id": "3ce92a11",
   "metadata": {},
   "outputs": [],
   "source": []
  }
 ],
 "metadata": {
  "kernelspec": {
   "display_name": "Python 3 (ipykernel)",
   "language": "python",
   "name": "python3"
  },
  "language_info": {
   "codemirror_mode": {
    "name": "ipython",
    "version": 3
   },
   "file_extension": ".py",
   "mimetype": "text/x-python",
   "name": "python",
   "nbconvert_exporter": "python",
   "pygments_lexer": "ipython3",
   "version": "3.11.5"
  }
 },
 "nbformat": 4,
 "nbformat_minor": 5
}
